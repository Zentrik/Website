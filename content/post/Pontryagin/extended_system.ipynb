{
 "cells": [
  {
   "cell_type": "code",
   "execution_count": 8,
   "source": [
    "%matplotlib widget\r\n",
    "\r\n",
    "import numpy as np\r\n",
    "from mpl_toolkits import mplot3d\r\n",
    "import matplotlib.pyplot as plt\r\n",
    "from ipywidgets import interact, interactive, fixed, interact_manual\r\n",
    "import ipywidgets as widgets\r\n",
    "from numba import njit, prange\r\n",
    "from numba.typed import List\r\n",
    "import scipy.integrate\r\n",
    "import scipy.interpolate"
   ],
   "outputs": [],
   "metadata": {}
  },
  {
   "cell_type": "code",
   "execution_count": 15,
   "source": [
    "t_start = 0\r\n",
    "t_final = 10\r\n",
    "dt = 0.1\r\n",
    "t_list_np = np.arange(0, t_final + dt, dt)\r\n",
    "\r\n",
    "u0 = np.linspace([-5], [5], 30)\r\n",
    "x0 = np.linspace([-5, -5, 0], [5, 5, 0], 20)\r\n",
    "\r\n",
    "u_list = np.tile(u0, (t_list_np.shape[0], 1, 1))\r\n",
    "\r\n",
    "x = [[None]*x0.shape[0] for _ in range(u0.shape[0])] # first axis is u0, then x0"
   ],
   "outputs": [],
   "metadata": {}
  },
  {
   "cell_type": "code",
   "execution_count": 24,
   "source": [
    "def x_hat_dot(t, x, i): #extended state\r\n",
    "    u = np.interp(t, t_list_np, u_list[:, i, 0])\r\n",
    "    return np.array([0.1*x[0] - u, -0.05*x[1] + u, np.dot(x[:-1], x[:-1]) + u**2])\r\n",
    "\r\n",
    "def run(x, x0):\r\n",
    "    for i in prange(u0.shape[0]):\r\n",
    "        for j in prange(x0.shape[0]):\r\n",
    "            x[i][j] = scipy.integrate.solve_ivp(x_hat_dot, [t_start, t_final], x0[j], args=(i,))"
   ],
   "outputs": [],
   "metadata": {}
  },
  {
   "cell_type": "code",
   "execution_count": 25,
   "source": [
    "#scipy.integrate.solve_ivp(x_hat_dot, [t_start, t_final], x0[0], args=(14,))\r\n",
    "run(x, x0)"
   ],
   "outputs": [
    {
     "output_type": "error",
     "ename": "TypingError",
     "evalue": "Failed in nopython mode pipeline (step: nopython frontend)\n\u001b[1m\u001b[1mnon-precise type pyobject\u001b[0m\n\u001b[0m\u001b[1mDuring: typing of argument at C:\\Users\\rag\\AppData\\Local\\Temp/ipykernel_18328/1344015361.py (8)\u001b[0m\n\u001b[1m\nFile \"C:\\Users\\rag\\AppData\\Local\\Temp\\ipykernel_18328\\1344015361.py\", line 8:\u001b[0m\n\u001b[1m<source missing, REPL/exec in use?>\u001b[0m\n\nThis error may have been caused by the following argument(s):\n- argument 0: Cannot type list element type <class 'scipy.integrate._ivp.ivp.OdeResult'>\n",
     "traceback": [
      "\u001b[1;31m---------------------------------------------------------------------------\u001b[0m",
      "\u001b[1;31mTypingError\u001b[0m                               Traceback (most recent call last)",
      "\u001b[1;32m~\\AppData\\Local\\Temp/ipykernel_18328/1333343.py\u001b[0m in \u001b[0;36m<module>\u001b[1;34m\u001b[0m\n\u001b[0;32m      1\u001b[0m \u001b[1;31m#scipy.integrate.solve_ivp(x_hat_dot, [t_start, t_final], x0[0], args=(14,))\u001b[0m\u001b[1;33m\u001b[0m\u001b[1;33m\u001b[0m\u001b[1;33m\u001b[0m\u001b[0m\n\u001b[1;32m----> 2\u001b[1;33m \u001b[0mrun\u001b[0m\u001b[1;33m(\u001b[0m\u001b[0mx\u001b[0m\u001b[1;33m,\u001b[0m \u001b[0mx0\u001b[0m\u001b[1;33m)\u001b[0m\u001b[1;33m\u001b[0m\u001b[1;33m\u001b[0m\u001b[0m\n\u001b[0m",
      "\u001b[1;32m~\\mambaforge\\lib\\site-packages\\numba\\core\\dispatcher.py\u001b[0m in \u001b[0;36m_compile_for_args\u001b[1;34m(self, *args, **kws)\u001b[0m\n\u001b[0;32m    418\u001b[0m                 \u001b[0me\u001b[0m\u001b[1;33m.\u001b[0m\u001b[0mpatch_message\u001b[0m\u001b[1;33m(\u001b[0m\u001b[0mmsg\u001b[0m\u001b[1;33m)\u001b[0m\u001b[1;33m\u001b[0m\u001b[1;33m\u001b[0m\u001b[0m\n\u001b[0;32m    419\u001b[0m \u001b[1;33m\u001b[0m\u001b[0m\n\u001b[1;32m--> 420\u001b[1;33m             \u001b[0merror_rewrite\u001b[0m\u001b[1;33m(\u001b[0m\u001b[0me\u001b[0m\u001b[1;33m,\u001b[0m \u001b[1;34m'typing'\u001b[0m\u001b[1;33m)\u001b[0m\u001b[1;33m\u001b[0m\u001b[1;33m\u001b[0m\u001b[0m\n\u001b[0m\u001b[0;32m    421\u001b[0m         \u001b[1;32mexcept\u001b[0m \u001b[0merrors\u001b[0m\u001b[1;33m.\u001b[0m\u001b[0mUnsupportedError\u001b[0m \u001b[1;32mas\u001b[0m \u001b[0me\u001b[0m\u001b[1;33m:\u001b[0m\u001b[1;33m\u001b[0m\u001b[1;33m\u001b[0m\u001b[0m\n\u001b[0;32m    422\u001b[0m             \u001b[1;31m# Something unsupported is present in the user code, add help info\u001b[0m\u001b[1;33m\u001b[0m\u001b[1;33m\u001b[0m\u001b[1;33m\u001b[0m\u001b[0m\n",
      "\u001b[1;32m~\\mambaforge\\lib\\site-packages\\numba\\core\\dispatcher.py\u001b[0m in \u001b[0;36merror_rewrite\u001b[1;34m(e, issue_type)\u001b[0m\n\u001b[0;32m    359\u001b[0m                 \u001b[1;32mraise\u001b[0m \u001b[0me\u001b[0m\u001b[1;33m\u001b[0m\u001b[1;33m\u001b[0m\u001b[0m\n\u001b[0;32m    360\u001b[0m             \u001b[1;32melse\u001b[0m\u001b[1;33m:\u001b[0m\u001b[1;33m\u001b[0m\u001b[1;33m\u001b[0m\u001b[0m\n\u001b[1;32m--> 361\u001b[1;33m                 \u001b[1;32mraise\u001b[0m \u001b[0me\u001b[0m\u001b[1;33m.\u001b[0m\u001b[0mwith_traceback\u001b[0m\u001b[1;33m(\u001b[0m\u001b[1;32mNone\u001b[0m\u001b[1;33m)\u001b[0m\u001b[1;33m\u001b[0m\u001b[1;33m\u001b[0m\u001b[0m\n\u001b[0m\u001b[0;32m    362\u001b[0m \u001b[1;33m\u001b[0m\u001b[0m\n\u001b[0;32m    363\u001b[0m         \u001b[0margtypes\u001b[0m \u001b[1;33m=\u001b[0m \u001b[1;33m[\u001b[0m\u001b[1;33m]\u001b[0m\u001b[1;33m\u001b[0m\u001b[1;33m\u001b[0m\u001b[0m\n",
      "\u001b[1;31mTypingError\u001b[0m: Failed in nopython mode pipeline (step: nopython frontend)\n\u001b[1m\u001b[1mnon-precise type pyobject\u001b[0m\n\u001b[0m\u001b[1mDuring: typing of argument at C:\\Users\\rag\\AppData\\Local\\Temp/ipykernel_18328/1344015361.py (8)\u001b[0m\n\u001b[1m\nFile \"C:\\Users\\rag\\AppData\\Local\\Temp\\ipykernel_18328\\1344015361.py\", line 8:\u001b[0m\n\u001b[1m<source missing, REPL/exec in use?>\u001b[0m\n\nThis error may have been caused by the following argument(s):\n- argument 0: Cannot type list element type <class 'scipy.integrate._ivp.ivp.OdeResult'>\n"
     ]
    }
   ],
   "metadata": {}
  },
  {
   "cell_type": "code",
   "execution_count": 12,
   "source": [
    "fig = plt.figure()\r\n",
    "ax = plt.axes(projection='3d')\r\n",
    "\r\n",
    "ax.set_xlabel('$x_1$')\r\n",
    "ax.set_ylabel('$x_2$')\r\n",
    "ax.set_zlabel('cost')\r\n",
    "\r\n",
    "def update(val = t_start):\r\n",
    "    ax.cla()\r\n",
    "\r\n",
    "    ax.set_xlabel('$x_1$')\r\n",
    "    ax.set_ylabel('$x_2$')\r\n",
    "    ax.set_zlabel('cost')\r\n",
    "\r\n",
    "    for i in range(u0.shape[0]):\r\n",
    "        for j in range(x0.shape[0]):\r\n",
    "            ax.scatter3D(np.interp(val, x[i][j].t, x[i][j].y[0]), np.interp(val, x[i][j].t, x[i][j].y[1]), np.interp(val, x[i][j].t, x[i][j].y[2]))\r\n",
    "\r\n",
    "    plt.draw()\r\n",
    "\r\n",
    "interact(update, val = widgets.FloatSlider(min=t_start, max=t_final, step=dt))"
   ],
   "outputs": [
    {
     "output_type": "display_data",
     "data": {
      "text/plain": [
       "Canvas(toolbar=Toolbar(toolitems=[('Home', 'Reset original view', 'home', 'home'), ('Back', 'Back to previous …"
      ],
      "application/vnd.jupyter.widget-view+json": {
       "version_major": 2,
       "version_minor": 0,
       "model_id": "ff114b3796c643de8ce893012fd12d68"
      }
     },
     "metadata": {}
    },
    {
     "output_type": "display_data",
     "data": {
      "text/plain": [
       "interactive(children=(FloatSlider(value=0.0, description='val', max=10.0), Output()), _dom_classes=('widget-in…"
      ],
      "application/vnd.jupyter.widget-view+json": {
       "version_major": 2,
       "version_minor": 0,
       "model_id": "dbf016a1b87548059ef14a9a70a2487b"
      }
     },
     "metadata": {}
    },
    {
     "output_type": "execute_result",
     "data": {
      "text/plain": [
       "<function __main__.update(val=0)>"
      ]
     },
     "metadata": {},
     "execution_count": 12
    }
   ],
   "metadata": {}
  },
  {
   "cell_type": "code",
   "execution_count": null,
   "source": [
    "ig = plt.figure()\r\n",
    "ax = plt.axes(projection='3d')\r\n",
    "\r\n",
    "ax.set_xlabel('$x_1$')\r\n",
    "ax.set_ylabel('$x_2$')\r\n",
    "ax.set_zlabel('cost')\r\n",
    "\r\n",
    "for t in t_list_np.toList():\r\n",
    "    for i in range(u0.shape[0]):\r\n",
    "            for j in range(x0.shape[0]):\r\n",
    "                ax.scatter3D(np.interp(t, x[i][j].t, x[i][j].y[0]), np.interp(t, x[i][j].t, x[i][j].y[1]), np.interp(t, x[i][j].t, x[i][j].y[2]))"
   ],
   "outputs": [],
   "metadata": {}
  }
 ],
 "metadata": {
  "orig_nbformat": 4,
  "language_info": {
   "name": "python",
   "version": "3.9.6",
   "mimetype": "text/x-python",
   "codemirror_mode": {
    "name": "ipython",
    "version": 3
   },
   "pygments_lexer": "ipython3",
   "nbconvert_exporter": "python",
   "file_extension": ".py"
  },
  "kernelspec": {
   "name": "python3",
   "display_name": "Python 3.9.6 64-bit ('base': conda)"
  },
  "interpreter": {
   "hash": "091094592e38997b7fe6b1fd4d187453884779d16c7a0986647dc8fc9b1bd60e"
  }
 },
 "nbformat": 4,
 "nbformat_minor": 2
}