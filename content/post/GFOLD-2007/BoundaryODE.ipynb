{
    "cells": [
        {
            "cell_type": "code",
            "execution_count": 2,
            "source": [
                "import pykep\r\n",
                "import numpy as np"
            ],
            "outputs": [],
            "metadata": {}
        },
        {
            "cell_type": "code",
            "execution_count": 19,
            "source": [
                "\r\n",
                "g = [0, 0, -3.7114];\r\n",
                "cosphi = np.cos(pykep.DEG2RAD * 27);\r\n",
                "α = 1 /(225 * 9.807 * cosphi);\r\n",
                "\r\n",
                "T_max = 3100;\r\n",
                "n = 6;\r\n",
                "T1 = 0.3 * T_max;\r\n",
                "T2 = 0.8 * T_max;\r\n",
                "rho1 = n * T1 * cosphi;\r\n",
                "rho2 = n * T2 * cosphi;\r\n",
                "\r\n",
                "mwet = 1905;\r\n",
                "\r\n",
                "r0 = (2000, 0, 1500) # x y z, unlike in paper BE CAREFUL\r\n",
                "rdot0 = (100, 0, -75)\r\n",
                "\r\n",
                "rfinal = [0, 0, 0]\r\n",
                "rdotfinal = [0, 0, 0]"
            ],
            "outputs": [],
            "metadata": {}
        },
        {
            "cell_type": "code",
            "execution_count": 20,
            "source": [
                "sc = pykep.sims_flanagan.spacecraft(mwet, 0.8, 225)\r\n",
                "x0 = pykep.sims_flanagan.sc_state(r0, rdot0, mwet)\r\n",
                "xf = pykep.sims_flanagan.sc_state(rfinal, rdotfinal, 0)"
            ],
            "outputs": [],
            "metadata": {}
        },
        {
            "cell_type": "code",
            "execution_count": 30,
            "source": [
                "l = pykep.pontryagin.leg(sc = sc, mu=pykep.MU_EARTH, freemass=True, freetime=True, alpha=1, bound=True)\r\n",
                "l.set(pykep.epoch(), x0, np.random.randn(7), pykep.epoch(1), xf)\r\n",
                "l.mismatch_constraints(atol=1e-10, rtol=1e-10)"
            ],
            "outputs": [
                {
                    "output_type": "execute_result",
                    "data": {
                        "text/plain": [
                            "array([ 2.62592826e-13, -1.18083035e-34,  2.37776707e-13,  3.17672460e+03,\n",
                            "       -7.61024750e-19,  2.62010974e+03, -2.38223858e+00,  2.98352563e+17])"
                        ]
                    },
                    "metadata": {},
                    "execution_count": 30
                }
            ],
            "metadata": {}
        },
        {
            "cell_type": "code",
            "execution_count": 31,
            "source": [
                "l.get_states()"
            ],
            "outputs": [
                {
                    "output_type": "stream",
                    "name": "stderr",
                    "text": [
                        "C:\\Users\\rag\\mambaforge\\lib\\site-packages\\scipy\\integrate\\_ode.py:1181: UserWarning: dop853: larger nsteps is needed\n",
                        "  warnings.warn('{:s}: {:s}'.format(self.__class__.__name__,\n"
                    ]
                },
                {
                    "output_type": "execute_result",
                    "data": {
                        "text/plain": [
                            "array([[ 0.00000000e+00,  2.00000000e+03,  0.00000000e+00, ...,\n",
                            "         1.37349678e-01,  8.51020056e-01,  9.22234824e+09],\n",
                            "       [ 2.02951746e-16,  2.00000000e+03,  0.00000000e+00, ...,\n",
                            "         1.37349678e-01,  8.51020056e-01,  9.22234824e+09],\n",
                            "       [ 9.14664143e-16,  2.00000000e+03,  0.00000000e+00, ...,\n",
                            "         1.37349678e-01,  8.51020056e-01,  9.22234824e+09],\n",
                            "       ...,\n",
                            "       [ 8.04945703e-08,  6.71325820e-03, -7.27276668e-24, ...,\n",
                            "         5.46354828e-10, -6.80759582e-01,  5.63066850e+15],\n",
                            "       [ 8.04945703e-08,  7.05266013e-03, -7.44501676e-24, ...,\n",
                            "         5.83479319e-10, -6.79071124e-01,  5.63065616e+15],\n",
                            "       [ 8.04945703e-08,  7.40787945e-03, -7.62137699e-24, ...,\n",
                            "         6.23103122e-10, -6.77416969e-01,  5.63064498e+15]])"
                        ]
                    },
                    "metadata": {},
                    "execution_count": 31
                }
            ],
            "metadata": {}
        },
        {
            "cell_type": "code",
            "execution_count": 5,
            "source": [
                "import pykep as pk\r\n",
                "import pygmo as pg\r\n",
                "import numpy as np\r\n",
                "from matplotlib import pyplot as plt\r\n",
                "from pykep.examples import add_gradient, algo_factory\r\n",
                "\r\n",
                "# 1 - Algorithm\r\n",
                "algo = algo_factory(\"slsqp\") # slsqp ipopt\r\n",
                "\r\n",
                " # 2 - Problem\r\n",
                "udp = add_gradient(pk.trajopt.indirect_pt2pl(\r\n",
                "    x0=[44459220055.461708, -145448367557.6174, 1195278.0377499966,\r\n",
                "        31208.214734303529, 9931.5012318647168, -437.07278242521573, 1000],\r\n",
                "    t0=1285.6637861007277,\r\n",
                "    pf=\"mars\",\r\n",
                "    thrust=0.1,\r\n",
                "    isp=3000,\r\n",
                "    mu=pk.MU_SUN,\r\n",
                "    tof=[600, 720],\r\n",
                "    alpha=0,    # quadratic control\r\n",
                "    bound=True),\r\n",
                "    with_grad=False\r\n",
                ")\r\n",
                "prob = pg.problem(udp)\r\n",
                "prob.c_tol = [1e-5] * prob.get_nc()\r\n",
                "\r\n",
                "# 3 - Population\r\n",
                "pop = pg.population(prob)\r\n",
                "z = np.hstack(([np.random.uniform(udp.udp_inner.tof[0],\r\n",
                "                                    udp.udp_inner.tof[1])], 10 * np.random.randn(7)))\r\n",
                "pop.push_back(z)\r\n",
                "\r\n",
                "# 4 - Solve the problem (evolve)\r\n",
                "pop = algo.evolve(pop)\r\n",
                "\r\n",
                "homotopy_path = [0.2, 0.4, 0.6, 0.8, 0.9, 0.98, 0.99, 0.995, 1]\r\n",
                "for alpha in homotopy_path:\r\n",
                "    z = pop.champion_x\r\n",
                "    print(\"alpha is: \", alpha)\r\n",
                "    udp = add_gradient(pk.trajopt.indirect_pt2pl(\r\n",
                "        x0=[44459220055.461708, -145448367557.6174, 1195278.0377499966,\r\n",
                "            31208.214734303529, 9931.5012318647168, -437.07278242521573, 1000],\r\n",
                "        t0=1285.6637861007277,\r\n",
                "        pf=\"mars\",\r\n",
                "        thrust=0.1,\r\n",
                "        isp=3000,\r\n",
                "        mu=pk.MU_SUN,\r\n",
                "        tof=[600, 720],\r\n",
                "        alpha=alpha,    # quadratic control\r\n",
                "        bound=True),\r\n",
                "        with_grad=False\r\n",
                "    )\r\n",
                "    prob = pg.problem(udp)\r\n",
                "    prob.c_tol = [1e-5] * prob.get_nc()\r\n",
                "\r\n",
                "    # 7 - Solve it\r\n",
                "    pop = pg.population(prob)\r\n",
                "    pop.push_back(z)\r\n",
                "    pop = algo.evolve(pop)\r\n",
                "\r\n",
                "# 8 - Inspect the solution\r\n",
                "print(\"Feasible?:\", prob.feasibility_x(pop.champion_x))\r\n",
                "\r\n",
                "# plot trajectory\r\n",
                "axis = udp.udp_inner.plot_traj(pop.champion_x, quiver=True, mark='k')\r\n",
                "plt.title(\"The trajectory in the heliocentric frame\")\r\n",
                "\r\n",
                "# plot control\r\n",
                "udp.udp_inner.plot_control(pop.champion_x)\r\n",
                "plt.title(\"The control profile (throttle)\")\r\n",
                "\r\n",
                "plt.ion()\r\n",
                "plt.show()"
            ],
            "outputs": [
                {
                    "output_type": "error",
                    "ename": "ValueError",
                    "evalue": "\nfunction: nlopt_objfun_wrapper\nwhere: D:\\bld\\pagmo_1627978848243\\work\\src\\algorithms\\nlopt.cpp, 393\nwhat: during an optimization with the NLopt algorithm 'slsqp' an objective function gradient was requested, but the optimisation problem '<class 'pykep.examples._ex_utilities.add_gradient'>' does not provide it\n",
                    "traceback": [
                        "\u001b[1;31m---------------------------------------------------------------------------\u001b[0m",
                        "\u001b[1;31mValueError\u001b[0m                                Traceback (most recent call last)",
                        "\u001b[1;32m~\\AppData\\Local\\Temp/ipykernel_19212/922577281.py\u001b[0m in \u001b[0;36m<module>\u001b[1;34m\u001b[0m\n\u001b[0;32m     32\u001b[0m \u001b[1;33m\u001b[0m\u001b[0m\n\u001b[0;32m     33\u001b[0m \u001b[1;31m# 4 - Solve the problem (evolve)\u001b[0m\u001b[1;33m\u001b[0m\u001b[1;33m\u001b[0m\u001b[1;33m\u001b[0m\u001b[0m\n\u001b[1;32m---> 34\u001b[1;33m \u001b[0mpop\u001b[0m \u001b[1;33m=\u001b[0m \u001b[0malgo\u001b[0m\u001b[1;33m.\u001b[0m\u001b[0mevolve\u001b[0m\u001b[1;33m(\u001b[0m\u001b[0mpop\u001b[0m\u001b[1;33m)\u001b[0m\u001b[1;33m\u001b[0m\u001b[1;33m\u001b[0m\u001b[0m\n\u001b[0m\u001b[0;32m     35\u001b[0m \u001b[1;33m\u001b[0m\u001b[0m\n\u001b[0;32m     36\u001b[0m \u001b[0mhomotopy_path\u001b[0m \u001b[1;33m=\u001b[0m \u001b[1;33m[\u001b[0m\u001b[1;36m0.2\u001b[0m\u001b[1;33m,\u001b[0m \u001b[1;36m0.4\u001b[0m\u001b[1;33m,\u001b[0m \u001b[1;36m0.6\u001b[0m\u001b[1;33m,\u001b[0m \u001b[1;36m0.8\u001b[0m\u001b[1;33m,\u001b[0m \u001b[1;36m0.9\u001b[0m\u001b[1;33m,\u001b[0m \u001b[1;36m0.98\u001b[0m\u001b[1;33m,\u001b[0m \u001b[1;36m0.99\u001b[0m\u001b[1;33m,\u001b[0m \u001b[1;36m0.995\u001b[0m\u001b[1;33m,\u001b[0m \u001b[1;36m1\u001b[0m\u001b[1;33m]\u001b[0m\u001b[1;33m\u001b[0m\u001b[1;33m\u001b[0m\u001b[0m\n",
                        "\u001b[1;31mValueError\u001b[0m: \nfunction: nlopt_objfun_wrapper\nwhere: D:\\bld\\pagmo_1627978848243\\work\\src\\algorithms\\nlopt.cpp, 393\nwhat: during an optimization with the NLopt algorithm 'slsqp' an objective function gradient was requested, but the optimisation problem '<class 'pykep.examples._ex_utilities.add_gradient'>' does not provide it\n"
                    ]
                }
            ],
            "metadata": {}
        },
        {
            "cell_type": "code",
            "execution_count": 7,
            "source": [
                "import pykep as pk\r\n",
                "pk.examples.run_example7(solver = \"ipopt\")"
            ],
            "outputs": [],
            "metadata": {}
        },
        {
            "cell_type": "code",
            "execution_count": null,
            "source": [],
            "outputs": [],
            "metadata": {}
        }
    ],
    "metadata": {
        "orig_nbformat": 4,
        "language_info": {
            "name": "python",
            "version": "3.9.6",
            "mimetype": "text/x-python",
            "codemirror_mode": {
                "name": "ipython",
                "version": 3
            },
            "pygments_lexer": "ipython3",
            "nbconvert_exporter": "python",
            "file_extension": ".py"
        },
        "kernelspec": {
            "name": "python3",
            "display_name": "Python 3.9.6 64-bit ('base': conda)"
        },
        "interpreter": {
            "hash": "091094592e38997b7fe6b1fd4d187453884779d16c7a0986647dc8fc9b1bd60e"
        }
    },
    "nbformat": 4,
    "nbformat_minor": 2
}